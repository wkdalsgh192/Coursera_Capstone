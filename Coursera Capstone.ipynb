{
 "cells": [
  {
   "cell_type": "markdown",
   "metadata": {
    "collapsed": true
   },
   "source": [
    "# Business Problem\n",
    "in this modern society, opening a cafeis the most common business, which is easy to fail as well. Every year, a lot of cafes open and are closed due to the fierce competition and small amount of small amount of profits not enough to maintain the business. \n",
    "Assume that a guy wants to open a cafe in Toronto. Which neighborhood would be the most profitable place for him? Location is one of the most important factors deciding how much you will get to run the cafe such that I am going to suggest that which district would be predicted to get you money and which would not. Through the analysis I'm expecting to help anyone who has a plan to have their own cafe in the near future."
   ]
  },
  {
   "cell_type": "markdown",
   "metadata": {},
   "source": [
    "# Data\n",
    "Three types of data will be used in my analysis report: 1. Location 2. Population 3. Income data. \n",
    "1. The location data brought up through Foursquare is used to map all the administrative districts of Toronro and to see candidate places in the commercial districts.\n",
    "2. Demograpic data of Toronto is also one of the important data that we need in order to see how many people live in each district and how many cafes are by  provided by the Canadian government. I'll scrap the data from the relating website, refine and load to my notebook.\n",
    "3. Income data is also improtant because the more income people get, the more money they probably spend."
   ]
  },
  {
   "cell_type": "code",
   "execution_count": null,
   "metadata": {},
   "outputs": [],
   "source": []
  }
 ],
 "metadata": {
  "kernelspec": {
   "display_name": "Python 3.6",
   "language": "python",
   "name": "python3"
  },
  "language_info": {
   "codemirror_mode": {
    "name": "ipython",
    "version": 3
   },
   "file_extension": ".py",
   "mimetype": "text/x-python",
   "name": "python",
   "nbconvert_exporter": "python",
   "pygments_lexer": "ipython3",
   "version": "3.6.8"
  }
 },
 "nbformat": 4,
 "nbformat_minor": 1
}
